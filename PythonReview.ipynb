{
 "cells": [
  {
   "cell_type": "markdown",
   "id": "2507c8d5",
   "metadata": {},
   "source": [
    "# Lists"
   ]
  },
  {
   "cell_type": "markdown",
   "id": "ae2a2831",
   "metadata": {},
   "source": [
    "Ordered, mutable values inside list value"
   ]
  },
  {
   "cell_type": "code",
   "execution_count": 7,
   "id": "df06f18d",
   "metadata": {},
   "outputs": [],
   "source": [
    "listName = [123, 'string', True]"
   ]
  },
  {
   "cell_type": "markdown",
   "id": "6012c2ec",
   "metadata": {},
   "source": [
    "Can also look like this:"
   ]
  },
  {
   "cell_type": "code",
   "execution_count": 1,
   "id": "f3ed2704",
   "metadata": {},
   "outputs": [],
   "source": [
    "listName = [123,\n",
    "           'string',\n",
    "           True]"
   ]
  },
  {
   "cell_type": "markdown",
   "id": "5a7b8b8e",
   "metadata": {},
   "source": [
    "#### Getting individual values in a list with indexes\n",
    "List items are numbered, starting with index 0."
   ]
  },
  {
   "cell_type": "code",
   "execution_count": 2,
   "id": "95090775",
   "metadata": {},
   "outputs": [
    {
     "data": {
      "text/plain": [
       "123"
      ]
     },
     "execution_count": 2,
     "metadata": {},
     "output_type": "execute_result"
    }
   ],
   "source": [
    "listName[0]"
   ]
  },
  {
   "cell_type": "code",
   "execution_count": 3,
   "id": "cf7258df",
   "metadata": {},
   "outputs": [
    {
     "data": {
      "text/plain": [
       "True"
      ]
     },
     "execution_count": 3,
     "metadata": {},
     "output_type": "execute_result"
    }
   ],
   "source": [
    "listName[-1]"
   ]
  },
  {
   "cell_type": "code",
   "execution_count": 4,
   "id": "3cd6a5c1",
   "metadata": {},
   "outputs": [],
   "source": [
    "newList = listName[1:3]"
   ]
  },
  {
   "cell_type": "code",
   "execution_count": 5,
   "id": "fb40f7ed",
   "metadata": {},
   "outputs": [
    {
     "data": {
      "text/plain": [
       "['string', True]"
      ]
     },
     "execution_count": 5,
     "metadata": {},
     "output_type": "execute_result"
    }
   ],
   "source": [
    "newList"
   ]
  },
  {
   "cell_type": "markdown",
   "id": "9053f1c8",
   "metadata": {},
   "source": [
    "#### Changing values in a list with indexes"
   ]
  },
  {
   "cell_type": "code",
   "execution_count": 6,
   "id": "9fd9153c",
   "metadata": {},
   "outputs": [],
   "source": [
    "listName[1] = 'newString'"
   ]
  },
  {
   "cell_type": "markdown",
   "id": "dd978c4f",
   "metadata": {},
   "source": [
    "#### List concatenation and list replication"
   ]
  },
  {
   "cell_type": "code",
   "execution_count": 7,
   "id": "fc443249",
   "metadata": {},
   "outputs": [
    {
     "data": {
      "text/plain": [
       "[123, 'newString', True, 'string', True]"
      ]
     },
     "execution_count": 7,
     "metadata": {},
     "output_type": "execute_result"
    }
   ],
   "source": [
    "listName + newList"
   ]
  },
  {
   "cell_type": "code",
   "execution_count": 8,
   "id": "b5554213",
   "metadata": {},
   "outputs": [
    {
     "data": {
      "text/plain": [
       "[123, 'newString', True, 123, 'newString', True]"
      ]
     },
     "execution_count": 8,
     "metadata": {},
     "output_type": "execute_result"
    }
   ],
   "source": [
    "listName *2"
   ]
  },
  {
   "cell_type": "markdown",
   "id": "d05f40a0",
   "metadata": {},
   "source": [
    "### Working with lists\n",
    "#### Using for loops with lists"
   ]
  },
  {
   "cell_type": "code",
   "execution_count": 10,
   "id": "0841094b",
   "metadata": {},
   "outputs": [
    {
     "name": "stdout",
     "output_type": "stream",
     "text": [
      "123\n",
      "newString\n",
      "True\n"
     ]
    }
   ],
   "source": [
    "for i in listName:\n",
    "    print(i)"
   ]
  },
  {
   "cell_type": "markdown",
   "id": "25b59edd",
   "metadata": {},
   "source": [
    "To access also indexes with their list items:"
   ]
  },
  {
   "cell_type": "code",
   "execution_count": 11,
   "id": "5c6aad44",
   "metadata": {},
   "outputs": [
    {
     "name": "stdout",
     "output_type": "stream",
     "text": [
      "Index: 0    Item: 123\n",
      "Index: 1    Item: newString\n",
      "Index: 2    Item: True\n"
     ]
    }
   ],
   "source": [
    "for i in range(len(listName)):\n",
    "    print('Index:', i, '   Item:', listName[i])"
   ]
  },
  {
   "cell_type": "markdown",
   "id": "4904c9d1",
   "metadata": {},
   "source": [
    "or, alternativele, use this function:"
   ]
  },
  {
   "cell_type": "code",
   "execution_count": 13,
   "id": "ffe4d86a",
   "metadata": {},
   "outputs": [
    {
     "name": "stdout",
     "output_type": "stream",
     "text": [
      "Index: 0    Item: 123\n",
      "Index: 1    Item: newString\n",
      "Index: 2    Item: True\n"
     ]
    }
   ],
   "source": [
    "for index, item in enumerate(listName):\n",
    "    print('Index:', index, '   Item:', item)"
   ]
  },
  {
   "cell_type": "markdown",
   "id": "2205841f",
   "metadata": {},
   "source": [
    "#### The in and not in operators"
   ]
  },
  {
   "cell_type": "code",
   "execution_count": 14,
   "id": "4fc0754a",
   "metadata": {},
   "outputs": [
    {
     "data": {
      "text/plain": [
       "True"
      ]
     },
     "execution_count": 14,
     "metadata": {},
     "output_type": "execute_result"
    }
   ],
   "source": [
    "123 in listName"
   ]
  },
  {
   "cell_type": "code",
   "execution_count": 15,
   "id": "61db2923",
   "metadata": {},
   "outputs": [
    {
     "data": {
      "text/plain": [
       "True"
      ]
     },
     "execution_count": 15,
     "metadata": {},
     "output_type": "execute_result"
    }
   ],
   "source": [
    "234 not in listName"
   ]
  },
  {
   "cell_type": "markdown",
   "id": "04ddce00",
   "metadata": {},
   "source": [
    "#### The multiple assignment trick"
   ]
  },
  {
   "cell_type": "markdown",
   "id": "c3675b18",
   "metadata": {},
   "source": [
    "Careful, the order of things before and after the equal sign matters!"
   ]
  },
  {
   "cell_type": "code",
   "execution_count": 16,
   "id": "37b7d451",
   "metadata": {},
   "outputs": [],
   "source": [
    "ay, bee, cee = listName"
   ]
  },
  {
   "cell_type": "code",
   "execution_count": 17,
   "id": "3d8307d8",
   "metadata": {},
   "outputs": [
    {
     "data": {
      "text/plain": [
       "123"
      ]
     },
     "execution_count": 17,
     "metadata": {},
     "output_type": "execute_result"
    }
   ],
   "source": [
    "ay"
   ]
  },
  {
   "cell_type": "code",
   "execution_count": 18,
   "id": "5215eb8c",
   "metadata": {},
   "outputs": [
    {
     "data": {
      "text/plain": [
       "'newString'"
      ]
     },
     "execution_count": 18,
     "metadata": {},
     "output_type": "execute_result"
    }
   ],
   "source": [
    "bee"
   ]
  },
  {
   "cell_type": "markdown",
   "id": "aa9dc865",
   "metadata": {},
   "source": [
    "*Note: Everything in this section up until this point can also be done with strings!!"
   ]
  },
  {
   "cell_type": "markdown",
   "id": "3297d315",
   "metadata": {},
   "source": [
    "#### List methods\n",
    "* list.append()\n",
    "* list.pop() - removes the last item in the list, alternatively specify index\n",
    "* list.remove() / del statement\n",
    "* list.insert()\n",
    "* list.index()\n",
    "* list.sort()\n",
    "* list.reverse()\n",
    "* random.shuffle(list) (must import random module first)\n",
    "* random.choice(list) (must import random module first)\n",
    "* tuple([]) ←> list(())"
   ]
  },
  {
   "cell_type": "markdown",
   "id": "14c45e59",
   "metadata": {},
   "source": [
    "### Mutable and immutable data types\n",
    "\n",
    "Strings are immutable data types. Pointing a variable to an existing value creates a copy of that value:"
   ]
  },
  {
   "cell_type": "code",
   "execution_count": 2,
   "id": "81c61cfb",
   "metadata": {},
   "outputs": [
    {
     "data": {
      "text/plain": [
       "'hello'"
      ]
     },
     "execution_count": 2,
     "metadata": {},
     "output_type": "execute_result"
    }
   ],
   "source": [
    "spam = 'hello'\n",
    "cheese = spam\n",
    "cheese = cheese[:1]+'a'+cheese[2:]\n",
    "spam"
   ]
  },
  {
   "cell_type": "code",
   "execution_count": 3,
   "id": "f7192c57",
   "metadata": {},
   "outputs": [
    {
     "data": {
      "text/plain": [
       "'hallo'"
      ]
     },
     "execution_count": 3,
     "metadata": {},
     "output_type": "execute_result"
    }
   ],
   "source": [
    "cheese"
   ]
  },
  {
   "cell_type": "code",
   "execution_count": 4,
   "id": "58a4cb28",
   "metadata": {},
   "outputs": [
    {
     "data": {
      "text/plain": [
       "2591096976048"
      ]
     },
     "execution_count": 4,
     "metadata": {},
     "output_type": "execute_result"
    }
   ],
   "source": [
    "id(spam)"
   ]
  },
  {
   "cell_type": "code",
   "execution_count": 5,
   "id": "41c4c0e4",
   "metadata": {},
   "outputs": [
    {
     "data": {
      "text/plain": [
       "2591100671280"
      ]
     },
     "execution_count": 5,
     "metadata": {},
     "output_type": "execute_result"
    }
   ],
   "source": [
    "id(cheese)"
   ]
  },
  {
   "cell_type": "markdown",
   "id": "f1fe7db3",
   "metadata": {},
   "source": [
    "Lists on the other hand are mutable data types. Pointing a variable to an existing value does not create a copy. A value can thus be changed by a variable that is pointed to it. This affects all other variables pointing to this value:"
   ]
  },
  {
   "cell_type": "code",
   "execution_count": 7,
   "id": "4c40f0ca",
   "metadata": {},
   "outputs": [
    {
     "data": {
      "text/plain": [
       "[0, 'hi', 2, 3, 4, 5]"
      ]
     },
     "execution_count": 7,
     "metadata": {},
     "output_type": "execute_result"
    }
   ],
   "source": [
    "spam = [0, 1, 2, 3, 4, 5]\n",
    "cheese = spam\n",
    "cheese[1] = 'hi'\n",
    "spam"
   ]
  },
  {
   "cell_type": "code",
   "execution_count": 8,
   "id": "8c65ba93",
   "metadata": {},
   "outputs": [
    {
     "data": {
      "text/plain": [
       "2591100928192"
      ]
     },
     "execution_count": 8,
     "metadata": {},
     "output_type": "execute_result"
    }
   ],
   "source": [
    "id(spam)"
   ]
  },
  {
   "cell_type": "code",
   "execution_count": 9,
   "id": "d8f91225",
   "metadata": {},
   "outputs": [
    {
     "data": {
      "text/plain": [
       "2591100928192"
      ]
     },
     "execution_count": 9,
     "metadata": {},
     "output_type": "execute_result"
    }
   ],
   "source": [
    "id(cheese)"
   ]
  },
  {
   "cell_type": "markdown",
   "id": "3ac6ed98",
   "metadata": {},
   "source": [
    "Another example:"
   ]
  },
  {
   "cell_type": "code",
   "execution_count": 10,
   "id": "e8263945",
   "metadata": {},
   "outputs": [
    {
     "name": "stdout",
     "output_type": "stream",
     "text": [
      "[1, 2, 3, 'Hello']\n"
     ]
    }
   ],
   "source": [
    "def eggs(someParameter):\n",
    "    someParameter.append('Hello')\n",
    "spam = [1, 2, 3]\n",
    "eggs(spam)\n",
    "print(spam)"
   ]
  },
  {
   "cell_type": "markdown",
   "id": "d00e2be5",
   "metadata": {},
   "source": [
    "# Dictionaries"
   ]
  },
  {
   "cell_type": "markdown",
   "id": "b048a5e2",
   "metadata": {},
   "source": [
    "Dictionaries are **mutable** assemblies of key-value pairs. Values are accessed through their keys. Dictionaries are not ordered, so there is no 'first' item. dict[0] produces a KeyError."
   ]
  },
  {
   "cell_type": "code",
   "execution_count": 39,
   "id": "0d953253",
   "metadata": {},
   "outputs": [],
   "source": [
    "dict = {'a': 'value1', 'b': 'value2', 'c': 'value3'}"
   ]
  },
  {
   "cell_type": "code",
   "execution_count": 40,
   "id": "028ba922",
   "metadata": {},
   "outputs": [
    {
     "data": {
      "text/plain": [
       "'value1'"
      ]
     },
     "execution_count": 40,
     "metadata": {},
     "output_type": "execute_result"
    }
   ],
   "source": [
    "dict['a']"
   ]
  },
  {
   "cell_type": "markdown",
   "id": "e590d8a2",
   "metadata": {},
   "source": [
    "Simply adda value by declaring it like so:"
   ]
  },
  {
   "cell_type": "code",
   "execution_count": 13,
   "id": "f518031a",
   "metadata": {},
   "outputs": [],
   "source": [
    "dict['d'] = 'value4'"
   ]
  },
  {
   "cell_type": "markdown",
   "id": "752f175a",
   "metadata": {},
   "source": [
    "To return a value from a dictionary for which there is no key, use the get() method. This does not append the dictionary with the new value:"
   ]
  },
  {
   "cell_type": "code",
   "execution_count": 41,
   "id": "556b52ff",
   "metadata": {},
   "outputs": [
    {
     "data": {
      "text/plain": [
       "'I am bringing 0 eggs.'"
      ]
     },
     "execution_count": 41,
     "metadata": {},
     "output_type": "execute_result"
    }
   ],
   "source": [
    "picnicItems = {'apples':5, 'cups':2}\n",
    "'I am bringing '+ str(picnicItems.get('eggs', 0))+' eggs.'"
   ]
  },
  {
   "cell_type": "code",
   "execution_count": 42,
   "id": "20ddf62b",
   "metadata": {},
   "outputs": [
    {
     "data": {
      "text/plain": [
       "{'apples': 5, 'cups': 2}"
      ]
     },
     "execution_count": 42,
     "metadata": {},
     "output_type": "execute_result"
    }
   ],
   "source": [
    "picnicItems"
   ]
  },
  {
   "cell_type": "markdown",
   "id": "daa3d3de",
   "metadata": {},
   "source": [
    "If you want to create a new key-value pair in the dictionary, use the setdefault() method:"
   ]
  },
  {
   "cell_type": "code",
   "execution_count": 43,
   "id": "099e3731",
   "metadata": {},
   "outputs": [
    {
     "data": {
      "text/plain": [
       "'I am bringing 2 eggs.'"
      ]
     },
     "execution_count": 43,
     "metadata": {},
     "output_type": "execute_result"
    }
   ],
   "source": [
    "picnicItems.setdefault('eggs', 2)\n",
    "'I am bringing '+ str(picnicItems.setdefault('eggs', 0))+' eggs.'"
   ]
  },
  {
   "cell_type": "markdown",
   "id": "77c7e1eb",
   "metadata": {},
   "source": [
    "Some other things to do with dictionaries:"
   ]
  },
  {
   "cell_type": "code",
   "execution_count": 44,
   "id": "5ae3bbf6",
   "metadata": {},
   "outputs": [],
   "source": [
    "picnicItems['apples'] = '10' # updated value with key 'apples'\n",
    "picnicItems['cups'] += 1 # increment value with key 'cups'\n",
    "'sandwiches' in picnicItems # checks if key exists in dictionary\n",
    "del picnicItems['eggs'] # deletes key-value pair"
   ]
  },
  {
   "cell_type": "markdown",
   "id": "8a8c4693",
   "metadata": {},
   "source": [
    "Dictionaries can include other dictionaries or lists as values:"
   ]
  },
  {
   "cell_type": "code",
   "execution_count": 45,
   "id": "b0fff205",
   "metadata": {},
   "outputs": [
    {
     "data": {
      "text/plain": [
       "{'apples': '10', 'cups': 3, 'drinks': ['water', 'cola']}"
      ]
     },
     "execution_count": 45,
     "metadata": {},
     "output_type": "execute_result"
    }
   ],
   "source": [
    "picnicItems['drinks'] = ['water']\n",
    "picnicItems['drinks'].append('cola')\n",
    "picnicItems"
   ]
  },
  {
   "cell_type": "markdown",
   "id": "c13a8ae0",
   "metadata": {},
   "source": [
    "To update a dictionary with another dictionary, use the built-in dictionary update() method:"
   ]
  },
  {
   "cell_type": "code",
   "execution_count": 46,
   "id": "65ece837",
   "metadata": {},
   "outputs": [
    {
     "data": {
      "text/plain": [
       "{'guests': ['mom'],\n",
       " 'location': 'Reedy Creek Park',\n",
       " 'apples': '10',\n",
       " 'cups': 3,\n",
       " 'drinks': ['water', 'cola']}"
      ]
     },
     "execution_count": 46,
     "metadata": {},
     "output_type": "execute_result"
    }
   ],
   "source": [
    "picnic = {'guests': ['mom'], 'location': 'Reedy Creek Park'}\n",
    "picnic.update(picnicItems)\n",
    "picnic"
   ]
  },
  {
   "cell_type": "markdown",
   "id": "d9bc408f",
   "metadata": {},
   "source": [
    "### Other ways to make dictionaries"
   ]
  },
  {
   "cell_type": "markdown",
   "id": "13fd89f4",
   "metadata": {},
   "source": [
    "Initialize empty dictionary and populate with elements:"
   ]
  },
  {
   "cell_type": "code",
   "execution_count": 47,
   "id": "de584baa",
   "metadata": {},
   "outputs": [
    {
     "data": {
      "text/plain": [
       "{'BINF6203': 'Genomics', 'Coursera1': 'R Programming'}"
      ]
     },
     "execution_count": 47,
     "metadata": {},
     "output_type": "execute_result"
    }
   ],
   "source": [
    "courses = {} # Initializes empty dictionary\n",
    "courses['BINF6203'] = 'Genomics'\n",
    "courses.update({'Coursera1': 'R Programming'})\n",
    "courses"
   ]
  },
  {
   "cell_type": "markdown",
   "id": "4968b6c9",
   "metadata": {},
   "source": [
    "Create dictionary form a list of tuples:"
   ]
  },
  {
   "cell_type": "code",
   "execution_count": 3,
   "id": "42f5e114",
   "metadata": {},
   "outputs": [],
   "source": [
    "translation = dict([(1, 'uno'), (2, 'dos'), (3, 'tres')])"
   ]
  },
  {
   "cell_type": "markdown",
   "id": "819cd6e7",
   "metadata": {},
   "source": [
    "Create dictionary from 2 separate lists:"
   ]
  },
  {
   "cell_type": "code",
   "execution_count": 1,
   "id": "4f5f98f1",
   "metadata": {},
   "outputs": [
    {
     "data": {
      "text/plain": [
       "zip"
      ]
     },
     "execution_count": 1,
     "metadata": {},
     "output_type": "execute_result"
    }
   ],
   "source": [
    "keys_list = ['joey', 'fred', 'katie']\n",
    "values_list = [6, 4, '2 months']\n",
    "zipped = zip(keys_list, values_list)\n",
    "type(zipped)"
   ]
  },
  {
   "cell_type": "code",
   "execution_count": 2,
   "id": "57ee89e9",
   "metadata": {},
   "outputs": [
    {
     "data": {
      "text/plain": [
       "{'joey': 6, 'fred': 4, 'katie': '2 months'}"
      ]
     },
     "execution_count": 2,
     "metadata": {},
     "output_type": "execute_result"
    }
   ],
   "source": [
    "kids_ages = dict(zipped)\n",
    "kids_ages"
   ]
  },
  {
   "cell_type": "code",
   "execution_count": null,
   "id": "842da887",
   "metadata": {},
   "outputs": [],
   "source": []
  }
 ],
 "metadata": {
  "kernelspec": {
   "display_name": "Python 3 (ipykernel)",
   "language": "python",
   "name": "python3"
  },
  "language_info": {
   "codemirror_mode": {
    "name": "ipython",
    "version": 3
   },
   "file_extension": ".py",
   "mimetype": "text/x-python",
   "name": "python",
   "nbconvert_exporter": "python",
   "pygments_lexer": "ipython3",
   "version": "3.9.13"
  }
 },
 "nbformat": 4,
 "nbformat_minor": 5
}
